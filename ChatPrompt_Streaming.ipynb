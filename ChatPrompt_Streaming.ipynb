{
 "cells": [
  {
   "cell_type": "code",
   "execution_count": 1,
   "metadata": {},
   "outputs": [
    {
     "name": "stdout",
     "output_type": "stream",
     "text": [
      "Sure! Here's a Haiku about programming languages:\n",
      "\n",
      "Swiftly code in Swift,\n",
      "Elegant syntax flows free,\n",
      "Apple's language gift.This Haiku is about the programming language Swift, developed by Apple. It highlights the ease and elegance of coding in Swift, with a nod to its syntax and the gift it is to developers.content='This Haiku is about the programming language Swift, developed by Apple. It highlights the ease and elegance of coding in Swift, with a nod to its syntax and the gift it is to developers.'\n"
     ]
    }
   ],
   "source": [
    "from langchain.chat_models import ChatOpenAI\n",
    "from langchain.prompts import ChatPromptTemplate\n",
    "from langchain.callbacks import StreamingStdOutCallbackHandler\n",
    "\n",
    "# Define Chat Model\n",
    "chat = ChatOpenAI(model_name=\"gpt-3.5-turbo\", temperature=0.1, streaming = True, callbacks=[StreamingStdOutCallbackHandler(),])\n",
    "\n",
    "# Poet Chain (Generates a Haiku)\n",
    "poet_prompt = ChatPromptTemplate.from_messages([\n",
    "    (\"system\", \"You are specialized in writing {literature} about programming languages that is easy and sophisticated to understand.\"),\n",
    "    (\"human\", \"I want to write a {literature}.\")\n",
    "])\n",
    "poet_chain = poet_prompt | chat   # Parses output into string format\n",
    "\n",
    "# Critique Chain (Explains the Haiku)\n",
    "critique_prompt = ChatPromptTemplate.from_messages([\n",
    "    (\"system\", \"You are specialized in explaining {poem}.\"),\n",
    "    (\"human\", \"I want to explain a {poem}.\")\n",
    "])\n",
    "critique_chain = critique_prompt | chat \n",
    "\n",
    "# Final Chain (Generate Haiku → Explain it)\n",
    "final_chain = {\"poem\": poet_chain} | critique_chain\n",
    "\n",
    "# Invoke the chain\n",
    "response = final_chain.invoke({\n",
    "    \"literature\": \"Haikus\"\n",
    "})\n",
    "\n",
    "# Print result\n",
    "print(response)\n"
   ]
  }
 ],
 "metadata": {
  "kernelspec": {
   "display_name": "env",
   "language": "python",
   "name": "python3"
  },
  "language_info": {
   "codemirror_mode": {
    "name": "ipython",
    "version": 3
   },
   "file_extension": ".py",
   "mimetype": "text/x-python",
   "name": "python",
   "nbconvert_exporter": "python",
   "pygments_lexer": "ipython3",
   "version": "3.9.6"
  }
 },
 "nbformat": 4,
 "nbformat_minor": 2
}
